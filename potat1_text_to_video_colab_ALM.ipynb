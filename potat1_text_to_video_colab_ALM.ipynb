{
  "cells": [
    {
      "cell_type": "markdown",
      "metadata": {
        "id": "view-in-github",
        "colab_type": "text"
      },
      "source": [
        "<a href=\"https://colab.research.google.com/github/bitcoinski/Auto-GPT/blob/master/potat1_text_to_video_colab_ALM.ipynb\" target=\"_parent\"><img src=\"https://colab.research.google.com/assets/colab-badge.svg\" alt=\"Open In Colab\"/></a>"
      ]
    },
    {
      "cell_type": "markdown",
      "source": [
        "#Step 1 (Mandatory) - Install Txt to Video Finetuning"
      ],
      "metadata": {
        "id": "ms6hHpqh9gw7"
      }
    },
    {
      "cell_type": "code",
      "execution_count": null,
      "metadata": {
        "id": "n2ibl97e2yM4"
      },
      "outputs": [],
      "source": [
        "#AI Lost Media's Text to Video Colab Workspace https://youtube.com/@ailostmedia\n",
        "#huge thanks to Camenduru https://twitter.com/camenduru and Cerspense https://twitter.com/cerspense for putting these models together.\n",
        "#tutorial: https://www.ailostmedia.com/post/the-ai-lost-media-text-to-video-colab-workspace\n",
        "%cd /content\n",
        "!pip install -q torch==1.13.1+cu116 torchvision==0.14.1+cu116 torchaudio==0.13.1 torchtext==0.14.1 torchdata==0.5.1 --extra-index-url https://download.pytorch.org/whl/cu116 -U\n",
        "!pip install git+https://github.com/huggingface/diffusers transformers accelerate imageio[ffmpeg] -U einops omegaconf decord xformers==0.0.16 safetensors\n",
        "!git clone -b dev https://github.com/camenduru/Text-To-Video-Finetuning\n",
        "!git clone https://github.com/ailostmedia/Potat1ALM\n",
        "!mv /content/Potat1ALM/inference.py /content/Text-To-Video-Finetuning/\n"
      ]
    },
    {
      "cell_type": "markdown",
      "source": [
        "#Step 2 (Mandatory) - Install Potat1 or ZeroScope (or both)"
      ],
      "metadata": {
        "id": "-QP-G6UZTv0Q"
      }
    },
    {
      "cell_type": "code",
      "source": [
        "#@title STEP2: Install Potat1\n",
        "%cd /content/\n",
        "!git clone https://huggingface.co/camenduru/potat1"
      ],
      "metadata": {
        "id": "qA3tHp7PT6Iz"
      },
      "execution_count": null,
      "outputs": []
    },
    {
      "cell_type": "code",
      "source": [
        "#@title STEP2: Install ZeroScope 576\n",
        "%cd /content/\n",
        "!git clone https://huggingface.co/cerspense/zeroscope_v2_567w"
      ],
      "metadata": {
        "id": "wynHDO_gjRVy"
      },
      "execution_count": null,
      "outputs": []
    },
    {
      "cell_type": "code",
      "source": [
        "#@title STEP2: Install ZeroScope XL\n",
        "%cd /content/\n",
        "!git clone https://huggingface.co/cerspense/zeroscope_v2_XL"
      ],
      "metadata": {
        "id": "Q6UV03XCjR76"
      },
      "execution_count": null,
      "outputs": []
    },
    {
      "cell_type": "code",
      "source": [
        "#@title STEP2: Install ZeroScope 448\n",
        "%cd /content/\n",
        "!git clone https://huggingface.co/cerspense/zeroscope_v2_dark_30x448x256"
      ],
      "metadata": {
        "id": "zIc8zOhYTtCQ"
      },
      "execution_count": null,
      "outputs": []
    },
    {
      "cell_type": "markdown",
      "source": [
        "#Step 3 - Text to Video"
      ],
      "metadata": {
        "id": "CZr0n9j10ixM"
      }
    },
    {
      "cell_type": "code",
      "execution_count": null,
      "metadata": {
        "id": "cqo7g4p2_V78",
        "cellView": "form"
      },
      "outputs": [],
      "source": [
        "%cd /content/Text-To-Video-Finetuning\n",
        "import torch\n",
        "import random\n",
        "import numpy as np\n",
        "\"\"\"\n",
        "torch.use_deterministic_algorithms(True)\n",
        "\n",
        "torch.backends.cudnn.benchmark = False\n",
        "torch.backends.cudnn.deterministic=True\n",
        "random.seed(2)\n",
        "np.random.seed(2)\n",
        "torch.manual_seed(2)\n",
        "torch.cuda.manual_seed(2)\n",
        "torch.cuda.manual_seed_all(2)\n",
        "torch.manual_seed(0)\n",
        "\"\"\"\n",
        "#print(\"seed is \" + str(torch.seed()))\n",
        "\n",
        "#seeding = \"Random\"\n",
        "#thisSeed = 123;\n",
        "\n",
        "\n",
        "#preset = \"Manual\"\n",
        "# while True:\n",
        "#@markdown #### Be sure you have installed the model you want in step 2\n",
        "model = \"potat1\" #@param [\"potat1\", \"zeroscope_v2_dark_30x448x256\", \"zeroscope_v2_567w\", \"zeroscope_v2_XL\"]\n",
        "prompt = \"extremely detailed, Futuristic Cityscape, blade runner, extremely cloudy, awardwinning, best quality, 8k\" #@param {type:\"string\"}\n",
        "negative = \"text, watermark, copyright, blurry, nsfw, noise, quick motion, bad quality, flicker, dirty, ugly, fast motion, quick cuts, fast editing, cuts\" #@param {type:\"string\"}\n",
        "prompt = f\"\\\"{prompt}\\\"\"\n",
        "negative = f\"\\\"{negative}\\\"\"\n",
        "num_steps = 25 #@param {type:\"raw\"}\n",
        "guidance_scale = 23 #@param {type:\"raw\"}\n",
        "width = 800 #@param {type:\"raw\"}\n",
        "height = 448 #@param {type:\"raw\"}\n",
        "fps = 10 #@param {type:\"raw\"}\n",
        "num_frames = 30 #@param {type:\"raw\"}\n",
        "seedManual = \"Random\"\n",
        "seeding = \"Random\" #@param [\"Random\", \"Manual\"]\n",
        "\n",
        "inputSeed = 7106521602475165645 #@param {type:\"raw\"}\n",
        "if seeding == \"Random\":\n",
        "  thisSeed = random.randint(0, ((1<<63)-1))\n",
        "  print(\"seed is \" + str(thisSeed))\n",
        "else:\n",
        "  thisSeed = inputSeed\n",
        "\n",
        "thisHeight = int(round(height/8.0)*8.0)\n",
        "thisWidth = int(round(width/8.0)*8.0)\n",
        "\n",
        "thisModel=\"/content/\"+model\n",
        "!python inference.py -m {thisModel} -p {prompt} -n {negative} -W {thisWidth} -H {thisHeight} -o /content/outputs -d cuda -x -s {num_steps} -g {guidance_scale} -f {fps} -T {num_frames} -seed {thisSeed}\n",
        "#-seed {thisSeed}"
      ]
    },
    {
      "cell_type": "markdown",
      "source": [
        "#Optional: Image to Vid"
      ],
      "metadata": {
        "id": "LbmrmwE13PqV"
      }
    },
    {
      "cell_type": "code",
      "source": [
        "#@title Img2Vid Step 1: Install 3D Photo inpainting\n",
        "!apt -y install -qq aria2 xvfb\n",
        "!pip install vispy transforms3d networkx\n",
        "%cd /content/\n",
        "!git clone -b dev https://github.com/camenduru/3d-photo-inpainting\n",
        "%cd /content/3d-photo-inpainting\n",
        "!git clone https://github.com/camenduru/BoostingMonocularDepth\n",
        "\n",
        "!aria2c --console-log-level=error -c -x 16 -s 16 -k 1M https://huggingface.co/camenduru/3d-photo-inpainting/resolve/main/color-model.pth -d /content/3d-photo-inpainting/checkpoints -o color-model.pth\n",
        "!aria2c --console-log-level=error -c -x 16 -s 16 -k 1M https://huggingface.co/camenduru/3d-photo-inpainting/resolve/main/depth-model.pth -d /content/3d-photo-inpainting/checkpoints -o depth-model.pth\n",
        "!aria2c --console-log-level=error -c -x 16 -s 16 -k 1M https://huggingface.co/camenduru/3d-photo-inpainting/resolve/main/edge-model.pth -d /content/3d-photo-inpainting/checkpoints -o edge-model.pth\n",
        "!aria2c --console-log-level=error -c -x 16 -s 16 -k 1M https://huggingface.co/camenduru/3d-photo-inpainting/resolve/main/model.pt -d /content/3d-photo-inpainting/checkpoints -o model.pt\n",
        "\n",
        "!aria2c --console-log-level=error -c -x 16 -s 16 -k 1M https://huggingface.co/camenduru/3d-photo-inpainting/resolve/main/latest_net_G.pth -d /content/3d-photo-inpainting/BoostingMonocularDepth/pix2pix/checkpoints/mergemodel -o latest_net_G.pth\n",
        "!aria2c --console-log-level=error -c -x 16 -s 16 -k 1M https://huggingface.co/camenduru/3d-photo-inpainting/resolve/main/model-f46da743.pt -d /content/3d-photo-inpainting/BoostingMonocularDepth/midas -o model.pt"
      ],
      "metadata": {
        "id": "Eu3aWLCC3ZA-",
        "cellView": "form"
      },
      "execution_count": null,
      "outputs": []
    },
    {
      "cell_type": "code",
      "source": [
        "#@title Img2Vid Step 2: Select Photo - Subject should be in center (use Jpg)\n",
        "import os\n",
        "import shutil\n",
        "from google.colab import drive\n",
        "from google.colab import files\n",
        "def reformat_photo(photo):\n",
        "    \"\"\"function to reformat photo\"\"\"\n",
        "\n",
        "\n",
        "#@markdown ### Select an uploading method\n",
        "upload_method = \"Upload\" #@param [\"Upload\", \"Custom Path\"]\n",
        "\n",
        "\n",
        "# remove previous input video\n",
        "if os.path.isfile('/content/3d-photo-inpainting/image/test.jpg'):\n",
        "    os.remove('/content/3d-photo-inpainting/image/test.jpg')\n",
        "\n",
        "if upload_method == \"Upload\":\n",
        "    uploaded = files.upload()\n",
        "    for filename in uploaded.keys():\n",
        "        os.rename(filename, '/content/3d-photo-inpainting/image/test.jpg')\n",
        "    PATH_TO_YOUR_PHOTO = '/content/3d-photo-inpainting/image/test.jpg'\n",
        "\n",
        "elif upload_method == 'Custom Path':\n",
        "    if not 'drive' in globals():\n",
        "        drive.mount('/content/drive')\n",
        "    #@markdown ``Add the full path to your video on your Gdrive `` 👇\n",
        "    PATH_TO_YOUR_PHOTO = '/content/3d-photo-inpainting/image/test.jpg' #@param {type:\"string\"}\n",
        "    if not os.path.isfile(PATH_TO_YOUR_PHOTO):\n",
        "        print(\"ERROR: File not found!\")\n",
        "        raise SystemExit(0)\n",
        "\n",
        "if upload_method == \"Upload\":\n",
        "  print(\"Input photo\")\n",
        "\n",
        "else:\n",
        "    if os.path.isfile(PATH_TO_YOUR_PHOTO):\n",
        "        shutil.copyfile(PATH_TO_YOUR_PHOTO, \"/content/3d-photo-inpainting/image/test.jpg\")\n",
        "        print(\"Input Photo\")\n",
        "        showVideo(PATH_TO_YOUR_PHOTO)"
      ],
      "metadata": {
        "id": "YSDV4Te3OLnL",
        "cellView": "form"
      },
      "execution_count": null,
      "outputs": []
    },
    {
      "cell_type": "code",
      "source": [
        "#@title Img2Vid Step 3: Run 3D Photo inpainting\n",
        "!pip install pyyaml\n",
        "#@markdown ### Select the video type\n",
        "video_type = \"zoom-in\" #@param [\"zoom-in\", \"dolly-zoom-in\", \"circle\", \"swing\"]\n",
        "#@markdown ### Select the trajectory type (straight line to end video after move, circle to end at start)\n",
        "trajectory_type = \"double-straight-line\" #@param [\"double-straight-line\", \"circle\"]\n",
        "#@markdown ### Input the trajectories (use between 0 and .05)\n",
        "#@markdown ### X (Negative is right, Positive is left)\n",
        "x = 0.00 #@param {type:\"raw\"}\n",
        "#@markdown ### Y (Negative is down, Positive is up)\n",
        "y = 0.015 #@param {type:\"raw\"}\n",
        "#@markdown ### Y (Negative is toward subject, Positive is away)\n",
        "z = -0.05 #@param {type:\"raw\"}\n",
        "#@markdown ### input the fps and frames for video\n",
        "fps = 24 #@param {type:\"raw\"}\n",
        "num_frames = 72 #@param {type:\"raw\"}\n",
        "\n",
        "import yaml\n",
        "%cd /content/3d-photo-inpainting\n",
        "\n",
        "with open('argument.yml', 'r') as file:\n",
        "  arguments = file.readlines()\n",
        "\n",
        "#yaml_data[5] = \"fps: \"+ str(fps)\n",
        "arguments[5] = \"fps: \"+ str(fps) +\"\\n\"\n",
        "arguments[6] = \"num_frames: \"+ str(num_frames) +\"\\n\"\n",
        "arguments[7] = \"x_shift_range: [\" +str(x) +\"]\\n\"\n",
        "arguments[8] = \"y_shift_range: [\" +str(y) +\"]\\n\"\n",
        "arguments[9] = \"z_shift_range: [\" +str(z) +\"]\\n\"\n",
        "arguments[10] = \"traj_types: [\" +str(trajectory_type) +\"]\\n\"\n",
        "arguments[11] = \"video_postfix: [\" +str(video_type) +\"]\\n\"\n",
        "\n",
        "with open('argument.yml', 'w') as file:\n",
        "  file.writelines(arguments)\n",
        "\n",
        "!xvfb-run -s \"-screen 0 1280x720x24\" python main.py --config argument.yml\n",
        "\n"
      ],
      "metadata": {
        "id": "JPWkWSeT-zkc",
        "cellView": "form"
      },
      "execution_count": null,
      "outputs": []
    },
    {
      "cell_type": "code",
      "source": [
        "#@title Img2Vid STEP 4: V2V with ZeroScope (Will Need Interpolating)\n",
        "%cd /content/Text-To-Video-Finetuning\n",
        "import torch\n",
        "import random\n",
        "import numpy as np\n",
        "\"\"\"\n",
        "torch.use_deterministic_algorithms(True)\n",
        "\n",
        "torch.backends.cudnn.benchmark = False\n",
        "torch.backends.cudnn.deterministic=True\n",
        "random.seed(2)\n",
        "np.random.seed(2)\n",
        "torch.manual_seed(2)\n",
        "torch.cuda.manual_seed(2)\n",
        "torch.cuda.manual_seed_all(2)\n",
        "torch.manual_seed(0)\n",
        "\"\"\"\n",
        "#print(\"seed is \" + str(torch.seed()))\n",
        "\n",
        "#seeding = \"Random\"\n",
        "#thisSeed = 123;\n",
        "\n",
        "\n",
        "#preset = \"Manual\"\n",
        "# while True:\n",
        "#@markdown ### Select the model (be sure to have installed in Step 2)\n",
        "model = \"zeroscope_v2_dark_30x448x256\" #@param [\"potat1\", \"zeroscope_v2_dark_30x448x256\", \"zeroscope_v2_567w\", \"zeroscope_v2_XL\"]\n",
        "#@markdown ### Copy Video Path from 3d-photo-inpainting/video\n",
        "video_path = \"\" #@param {type:\"string\"}\n",
        "video_weight = .2 #@param {type:\"raw\"}\n",
        "#@markdown ### Fill in prompt and parameters!\n",
        "prompt = \"Extremely Detailed, dynamic shot, action, 80s live action medieval fantasy film shot of a young hero riding a hovercycle high in the clouds, stormy, hyperrealistic, best quality, awardwinning\" #@param {type:\"string\"}\n",
        "negative = \"blurry, text, watermark, copyright, blurry, nsfw, noise, quick motion, bad quality, flicker, dirty, ugly, fast motion, quick cuts, fast editing, cuts\" #@param {type:\"string\"}\n",
        "prompt = f\"\\\"{prompt}\\\"\"\n",
        "negative = f\"\\\"{negative}\\\"\"\n",
        "num_steps = 50 #@param {type:\"raw\"}\n",
        "guidance_scale = 23 #@param {type:\"raw\"}\n",
        "width = 448 #@param {type:\"raw\"}\n",
        "height = 256 #@param {type:\"raw\"}\n",
        "fps = 10 #@param {type:\"raw\"}\n",
        "num_frames = 30 #@param {type:\"raw\"}\n",
        "#@markdown ### Seeding not currently working for v2v (WIP)\n",
        "seedManual = \"Random\"\n",
        "seeding = \"Random\" #@param [\"Random\", \"Manual\"]\n",
        "\n",
        "inputSeed = 6708511088475640657 #@param {type:\"raw\"}\n",
        "if seeding == \"Random\":\n",
        "  thisSeed = random.randint(0, ((1<<63)-1))\n",
        "  print(\"seed is \" + str(thisSeed))\n",
        "else:\n",
        "  thisSeed = inputSeed\n",
        "\n",
        "thisHeight = int(round(height/8.0)*8.0)\n",
        "thisWidth = int(round(width/8.0)*8.0)\n",
        "thisModel=\"/content/\"+model\n",
        "thisVideoPath = str(video_path)\n",
        "!python inference.py -m {thisModel} -p {prompt} -n {negative} -W {thisWidth} -H {thisHeight} -o /content/outputs -d cuda -x -s {num_steps} -g {guidance_scale} -f {fps} -T {num_frames} -seed {thisSeed} -i {thisVideoPath} -iw {video_weight}\n",
        "#-seed {thisSeed}"
      ],
      "metadata": {
        "id": "xks-YDvld_3B",
        "cellView": "form"
      },
      "execution_count": null,
      "outputs": []
    },
    {
      "cell_type": "markdown",
      "source": [
        "#Optional - V2V (Upload your own or use ZeroScope below)"
      ],
      "metadata": {
        "id": "xCJ0J8ZDkLQ_"
      }
    },
    {
      "cell_type": "code",
      "source": [
        "#@title V2V Step 1: Run ZeroScope (Optional)\n",
        "%cd /content/Text-To-Video-Finetuning\n",
        "import torch\n",
        "import random\n",
        "import numpy as np\n",
        "\"\"\"\n",
        "torch.use_deterministic_algorithms(True)\n",
        "\n",
        "torch.backends.cudnn.benchmark = False\n",
        "torch.backends.cudnn.deterministic=True\n",
        "random.seed(2)\n",
        "np.random.seed(2)\n",
        "torch.manual_seed(2)\n",
        "torch.cuda.manual_seed(2)\n",
        "torch.cuda.manual_seed_all(2)\n",
        "torch.manual_seed(0)\n",
        "\"\"\"\n",
        "#print(\"seed is \" + str(torch.seed()))\n",
        "\n",
        "#seeding = \"Random\"\n",
        "#thisSeed = 123;\n",
        "\n",
        "\n",
        "#preset = \"Manual\"\n",
        "# while True:\n",
        "\n",
        "prompt = \"extremely detailed, Futuristic Cityscape, blade runner, extremely cloudy, awardwinning, best quality, 8k\" #@param {type:\"string\"}\n",
        "negative = \"text, watermark, copyright, blurry, nsfw, noise, quick motion, bad quality, flicker, dirty, ugly, fast motion, quick cuts, fast editing, cuts, blurry\" #@param {type:\"string\"}\n",
        "prompt = f\"\\\"{prompt}\\\"\"\n",
        "negative = f\"\\\"{negative}\\\"\"\n",
        "num_steps = 25 #@param {type:\"raw\"}\n",
        "guidance_scale = 23 #@param {type:\"raw\"}\n",
        "fps = 10 #@param {type:\"raw\"}\n",
        "num_frames = 30 #@param {type:\"raw\"}\n",
        "seedManual = \"Random\"\n",
        "seeding = \"Random\" #@param [\"Random\", \"Manual\"]\n",
        "\n",
        "inputSeed = 5939699337684636079 #@param {type:\"raw\"}\n",
        "if seeding == \"Random\":\n",
        "  thisSeed = random.randint(0, ((1<<63)-1))\n",
        "  print(\"seed is \" + str(thisSeed))\n",
        "else:\n",
        "  thisSeed = inputSeed\n",
        "\n",
        "!python inference.py -m \"/content/zeroscope_v2_dark_30x448x256\" -p {prompt} -n {negative} -W 448 -H 256 -o /content/outputs -d cuda -x -s {num_steps} -g {guidance_scale} -f {fps} -T {num_frames} -seed {thisSeed}\n",
        "#-seed {thisSeed}"
      ],
      "metadata": {
        "cellView": "form",
        "id": "Iuu47h69khNx"
      },
      "execution_count": null,
      "outputs": []
    },
    {
      "cell_type": "code",
      "source": [
        "#@title V2V Step 2: Select Video (Upload from local drive or Gdrive)\n",
        "import os\n",
        "import shutil\n",
        "from google.colab import drive\n",
        "from google.colab import files\n",
        "from IPython.display import HTML, clear_output\n",
        "from base64 import b64encode\n",
        "import moviepy.editor as mp\n",
        "\n",
        "\n",
        "def showVideo(file_path):\n",
        "    \"\"\"Function to display video in Colab\"\"\"\n",
        "    mp4 = open(file_path,'rb').read()\n",
        "    data_url = \"data:video/mp4;base64,\" + b64encode(mp4).decode()\n",
        "    display(HTML(\"\"\"\n",
        "    <video controls width=600>\n",
        "        <source src=\"%s\" type=\"video/mp4\">\n",
        "    </video>\n",
        "    \"\"\" % data_url))\n",
        "\n",
        "def get_video_resolution(video_path):\n",
        "    \"\"\"Function to get the resolution of a video\"\"\"\n",
        "    import cv2\n",
        "    video = cv2.VideoCapture(video_path)\n",
        "    width = int(video.get(cv2.CAP_PROP_FRAME_WIDTH))\n",
        "    height = int(video.get(cv2.CAP_PROP_FRAME_HEIGHT))\n",
        "    return (width, height)\n",
        "\n",
        "def resize_video(video_path, new_resolution):\n",
        "    \"\"\"Function to resize a video\"\"\"\n",
        "    import cv2\n",
        "    video = cv2.VideoCapture(video_path)\n",
        "    fourcc = int(video.get(cv2.CAP_PROP_FOURCC))\n",
        "    fps = video.get(cv2.CAP_PROP_FPS)\n",
        "    width, height = new_resolution\n",
        "    output_path = os.path.splitext(video_path)[0] + '_720p.mp4'\n",
        "    writer = cv2.VideoWriter(output_path, fourcc, fps, (width, height))\n",
        "    while True:\n",
        "        success, frame = video.read()\n",
        "        if not success:\n",
        "            break\n",
        "        resized_frame = cv2.resize(frame, new_resolution)\n",
        "        writer.write(resized_frame)\n",
        "    video.release()\n",
        "    writer.release()\n",
        "\n",
        "#@markdown ### Select an uploading method\n",
        "upload_method = \"Custom Path\" #@param [\"Upload\", \"Custom Path\"]\n",
        "\n",
        "\n",
        "# remove previous input video\n",
        "if os.path.isfile('/content/sample_data/input_vid.mp4'):\n",
        "    os.remove('/content/sample_data/input_vid.mp4')\n",
        "\n",
        "if upload_method == \"Upload\":\n",
        "    uploaded = files.upload()\n",
        "    for filename in uploaded.keys():\n",
        "        os.rename(filename, '/content/sample_data/input_vid.mp4')\n",
        "    PATH_TO_YOUR_VIDEO = '/content/sample_data/input_vid.mp4'\n",
        "\n",
        "elif upload_method == 'Custom Path':\n",
        "    if not 'drive' in globals():\n",
        "        drive.mount('/content/drive')\n",
        "    #@markdown ``Add the full path to your video on your Gdrive `` 👇\n",
        "    PATH_TO_YOUR_VIDEO = '' #@param {type:\"string\"}\n",
        "    if not os.path.isfile(PATH_TO_YOUR_VIDEO):\n",
        "        print(\"ERROR: File not found!\")\n",
        "        raise SystemExit(0)\n",
        "\n",
        "#@markdown <font color=\"orange\">Notes:\n",
        "\n",
        "#@markdown <font color=\"orange\">. ``If your uploaded video is 1080p or higher resolution, this cell will resize it to 720p.``\n",
        "\n",
        "#@markdown <font color=\"orange\">. ``Do not upload videos longer than 60 seconds.``\n",
        "\n",
        "#@markdown ___\n",
        "\n",
        "video_duration = mp.VideoFileClip(PATH_TO_YOUR_VIDEO).duration\n",
        "if video_duration > 60:\n",
        "    print(\"WARNING: Video duration exceeds 60 seconds. Please upload a shorter video.\")\n",
        "    raise SystemExit(0)\n",
        "\n",
        "video_resolution = get_video_resolution(PATH_TO_YOUR_VIDEO)\n",
        "print(f\"Video resolution: {video_resolution}\")\n",
        "if video_resolution[0] >= 1920 or video_resolution[1] >= 1080:\n",
        "    print(\"Resizing video to 720p...\")\n",
        "    os.system(f\"ffmpeg -i {PATH_TO_YOUR_VIDEO} -vf scale=1280:720 /content/sample_data/input_vid.mp4\")\n",
        "    PATH_TO_YOUR_VIDEO = \"/content/sample_data/input_vid.mp4\"\n",
        "    print(\"Video resized to 720p\")\n",
        "else:\n",
        "    print(\"No resizing needed\")\n",
        "\n",
        "if upload_method == \"Upload\":\n",
        "  clear_output()\n",
        "  print(\"Input Video\")\n",
        "  showVideo(PATH_TO_YOUR_VIDEO)\n",
        "else:\n",
        "    if os.path.isfile(PATH_TO_YOUR_VIDEO):\n",
        "        shutil.copyfile(PATH_TO_YOUR_VIDEO, \"/content/sample_data/input_vid.mp4\")\n",
        "        print(\"Input Video\")\n",
        "        showVideo(PATH_TO_YOUR_VIDEO)\n"
      ],
      "metadata": {
        "id": "GsKGWi1knhYZ",
        "cellView": "form"
      },
      "execution_count": null,
      "outputs": []
    },
    {
      "cell_type": "code",
      "source": [
        "#@title V2V STEP 3: V2V with Potat1 (Will Need Interpolating)\n",
        "%cd /content/Text-To-Video-Finetuning\n",
        "import torch\n",
        "import random\n",
        "import numpy as np\n",
        "\"\"\"\n",
        "torch.use_deterministic_algorithms(True)\n",
        "\n",
        "torch.backends.cudnn.benchmark = False\n",
        "torch.backends.cudnn.deterministic=True\n",
        "random.seed(2)\n",
        "np.random.seed(2)\n",
        "torch.manual_seed(2)\n",
        "torch.cuda.manual_seed(2)\n",
        "torch.cuda.manual_seed_all(2)\n",
        "torch.manual_seed(0)\n",
        "\"\"\"\n",
        "#print(\"seed is \" + str(torch.seed()))\n",
        "\n",
        "#seeding = \"Random\"\n",
        "#thisSeed = 123;\n",
        "\n",
        "\n",
        "#preset = \"Manual\"\n",
        "# while True:\n",
        "#@markdown ### Select the model (be sure to have installed in Step 2)\n",
        "model = \"potat1\" #@param [\"potat1\", \"zeroscope_v2_dark_30x448x256\", \"zeroscope_v2_567w\", \"zeroscope_v2_XL\"]\n",
        "video_weight = .3 #@param {type:\"raw\"}\n",
        "prompt = \"extremely detailed, Futuristic Cityscape, blade runner, extremely cloudy, awardwinning, best quality, 8k\" #@param {type:\"string\"}\n",
        "negative = \"blurry, text, watermark, copyright, blurry, nsfw, noise, quick motion, bad quality, flicker, dirty, ugly, fast motion, quick cuts, fast editing, cuts\" #@param {type:\"string\"}\n",
        "prompt = f\"\\\"{prompt}\\\"\"\n",
        "negative = f\"\\\"{negative}\\\"\"\n",
        "num_steps = 50 #@param {type:\"raw\"}\n",
        "guidance_scale = 23 #@param {type:\"raw\"}\n",
        "width = 600 #@param {type:\"raw\"}\n",
        "height = 336 #@param {type:\"raw\"}\n",
        "fps = 6 #@param {type:\"raw\"}\n",
        "num_frames = 18 #@param {type:\"raw\"}\n",
        "#@markdown ### Seeding not currently working for v2v (WIP)\n",
        "seedManual = \"Random\"\n",
        "seeding = \"Random\" #@param [\"Random\", \"Manual\"]\n",
        "\n",
        "inputSeed = 6708511088475640657 #@param {type:\"raw\"}\n",
        "if seeding == \"Random\":\n",
        "  thisSeed = random.randint(0, ((1<<63)-1))\n",
        "  print(\"seed is \" + str(thisSeed))\n",
        "else:\n",
        "  thisSeed = inputSeed\n",
        "\n",
        "thisHeight = int(round(height/8.0)*8.0)\n",
        "thisWidth = int(round(width/8.0)*8.0)\n",
        "thisModel=\"/content/\"+model\n",
        "!python inference.py -m {thisModel} -p {prompt} -n {negative} -W {thisWidth} -H {thisHeight} -o /content/outputs -d cuda -x -s {num_steps} -g {guidance_scale} -f {fps} -T {num_frames} -seed {thisSeed} -i \"/content/sample_data/input_vid.mp4\" -iw {video_weight}\n",
        "#-seed {thisSeed}"
      ],
      "metadata": {
        "colab": {
          "base_uri": "https://localhost:8080/"
        },
        "id": "4mHF40hUptZT",
        "outputId": "d929eb58-7914-4459-c140-fcfcfbef13da",
        "cellView": "form"
      },
      "execution_count": null,
      "outputs": [
        {
          "output_type": "stream",
          "name": "stdout",
          "text": [
            "/content/Text-To-Video-Finetuning\n",
            "seed is 1969870865978283164\n",
            "2023-06-23 03:39:57.573678: W tensorflow/compiler/tf2tensorrt/utils/py_utils.cc:38] TF-TRT Warning: Could not find TensorRT\n",
            "/usr/local/lib/python3.10/dist-packages/diffusers/configuration_utils.py:134: FutureWarning: Accessing config attribute `num_train_timesteps` directly via 'DPMSolverMultistepScheduler' object attribute is deprecated. Please access 'num_train_timesteps' over 'DPMSolverMultistepScheduler's config object instead, e.g. 'scheduler.config.num_train_timesteps'.\n",
            "  deprecate(\"direct config name access\", \"1.0.0\", deprecation_message, standard_warn=False)\n",
            "100% 35/35 [01:46<00:00,  3.05s/it]\n"
          ]
        }
      ]
    }
  ],
  "metadata": {
    "accelerator": "GPU",
    "colab": {
      "provenance": [],
      "include_colab_link": true
    },
    "gpuClass": "standard",
    "kernelspec": {
      "display_name": "Python 3",
      "name": "python3"
    },
    "language_info": {
      "name": "python"
    }
  },
  "nbformat": 4,
  "nbformat_minor": 0
}